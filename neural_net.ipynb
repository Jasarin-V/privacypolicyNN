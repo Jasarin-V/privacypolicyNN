{
 "cells": [
  {
   "cell_type": "markdown",
   "metadata": {},
   "source": [
    "<center><h1>Predictions on Privacy Policies</h1></center>\n",
    "<center><h2>CSC 4444 Artificial Intelligence Final Project</h2></center>\n",
    "<center><h3>A. Cao, B. Mendoza, J. Huxen, N. Vu , T. Hill, G. Johnson, N. Tomba, R. Stephens </h3></center>\n",
    "<center><h5>December 4, 2018</h5></center>\n",
    "\n",
    "## Abstract\n",
    "<p>In response to recent government regulatory changes, many tech companies collectively filled their users’ email inboxes with updated privacy policies and terms of service agreement changes. However, because the policies are filled with dense legal language, many emails went unopened while others were sent directly into the trash folder. As a society, we responded with a collective “too long, didn’t read.” Users know that they should read such policies, but they rarely do. Here, we aim to create an intelligent privacy policy evaluator which fixes this issue.\n",
    "<br />Our application will take in privacy policy text and return an evaluation of the policy based on ten criterion. We will create a set of training sentences from privacy policies vetted and analyzed by humans. The model will be trained on the training dataset. Finally, we will test the model by feeding it new privacy policy texts and ask it to return the most important sentences. Ideally, the model will be implemented in some usable app form such as a browser plugin.</p>\n",
    "\n",
    "## Introduction\n",
    "<p>We evaluate a privacy policy with respect to a list of ten privacy factors. For each of these factors, e.g., email address, we answer a basic question such as \"How does the site handle your email address?\" The answers to these questions are mapped to three levels of risk: 1 (high risk), 2 (medium risk), and 3 (low risk). For example, if a website does ask for an email addresses, but states in the privacy policy that uses them only for the intended service, it is ranked at the yellow risk level. This labeled data was obtained from a pilot study (<a href=\"https://dl.acm.org/citation.cfm?id=3127519\">Zaeem 2016</a>).\n",
    "<br />We predict risk values for each privacy factor using a classification (supervised machine learning) model. Training was done against privacy policies for each factor and predictions were on risk factors of other policies.</p>\n",
    "    \n",
    "## The Data\n",
    "<p>The UTA dataset contains roughly 400 privacy policies randomly selected from the NYSE, Nasdaq and AMEX company listings, and manually assigned risk levels to the ten factors. The dataset is balanced, as there are an equal number of low, medium, and high risk policies among each of the ten variables. Thus, we expect our baseline prediction accuracy to be $33\\%$ in any particular factor. Pre-processing was done with an algorithmic approach.</p>\n",
    "\n",
    "    \n"
   ]
  },
  {
   "cell_type": "markdown",
   "metadata": {},
   "source": [
    "We first demonstrate functions from our text_preprocessor module."
   ]
  },
  {
   "cell_type": "code",
   "execution_count": 1,
   "metadata": {},
   "outputs": [
    {
     "data": {
      "text/html": [
       "<!DOCTYPE html PUBLIC \"-//W3C//DTD HTML 4.01//EN\"\n",
       "   \"http://www.w3.org/TR/html4/strict.dtd\">\n",
       "\n",
       "<html>\n",
       "<head>\n",
       "  <title></title>\n",
       "  <meta http-equiv=\"content-type\" content=\"text/html; charset=None\">\n",
       "  <style type=\"text/css\">\n",
       "td.linenos { background-color: #f0f0f0; padding-right: 10px; }\n",
       "span.lineno { background-color: #f0f0f0; padding: 0 5px 0 5px; }\n",
       "pre { line-height: 125%; }\n",
       "body .hll { background-color: #ffffcc }\n",
       "body  { background: #f8f8f8; }\n",
       "body .c { color: #408080; font-style: italic } /* Comment */\n",
       "body .err { border: 1px solid #FF0000 } /* Error */\n",
       "body .k { color: #008000; font-weight: bold } /* Keyword */\n",
       "body .o { color: #666666 } /* Operator */\n",
       "body .ch { color: #408080; font-style: italic } /* Comment.Hashbang */\n",
       "body .cm { color: #408080; font-style: italic } /* Comment.Multiline */\n",
       "body .cp { color: #BC7A00 } /* Comment.Preproc */\n",
       "body .cpf { color: #408080; font-style: italic } /* Comment.PreprocFile */\n",
       "body .c1 { color: #408080; font-style: italic } /* Comment.Single */\n",
       "body .cs { color: #408080; font-style: italic } /* Comment.Special */\n",
       "body .gd { color: #A00000 } /* Generic.Deleted */\n",
       "body .ge { font-style: italic } /* Generic.Emph */\n",
       "body .gr { color: #FF0000 } /* Generic.Error */\n",
       "body .gh { color: #000080; font-weight: bold } /* Generic.Heading */\n",
       "body .gi { color: #00A000 } /* Generic.Inserted */\n",
       "body .go { color: #888888 } /* Generic.Output */\n",
       "body .gp { color: #000080; font-weight: bold } /* Generic.Prompt */\n",
       "body .gs { font-weight: bold } /* Generic.Strong */\n",
       "body .gu { color: #800080; font-weight: bold } /* Generic.Subheading */\n",
       "body .gt { color: #0044DD } /* Generic.Traceback */\n",
       "body .kc { color: #008000; font-weight: bold } /* Keyword.Constant */\n",
       "body .kd { color: #008000; font-weight: bold } /* Keyword.Declaration */\n",
       "body .kn { color: #008000; font-weight: bold } /* Keyword.Namespace */\n",
       "body .kp { color: #008000 } /* Keyword.Pseudo */\n",
       "body .kr { color: #008000; font-weight: bold } /* Keyword.Reserved */\n",
       "body .kt { color: #B00040 } /* Keyword.Type */\n",
       "body .m { color: #666666 } /* Literal.Number */\n",
       "body .s { color: #BA2121 } /* Literal.String */\n",
       "body .na { color: #7D9029 } /* Name.Attribute */\n",
       "body .nb { color: #008000 } /* Name.Builtin */\n",
       "body .nc { color: #0000FF; font-weight: bold } /* Name.Class */\n",
       "body .no { color: #880000 } /* Name.Constant */\n",
       "body .nd { color: #AA22FF } /* Name.Decorator */\n",
       "body .ni { color: #999999; font-weight: bold } /* Name.Entity */\n",
       "body .ne { color: #D2413A; font-weight: bold } /* Name.Exception */\n",
       "body .nf { color: #0000FF } /* Name.Function */\n",
       "body .nl { color: #A0A000 } /* Name.Label */\n",
       "body .nn { color: #0000FF; font-weight: bold } /* Name.Namespace */\n",
       "body .nt { color: #008000; font-weight: bold } /* Name.Tag */\n",
       "body .nv { color: #19177C } /* Name.Variable */\n",
       "body .ow { color: #AA22FF; font-weight: bold } /* Operator.Word */\n",
       "body .w { color: #bbbbbb } /* Text.Whitespace */\n",
       "body .mb { color: #666666 } /* Literal.Number.Bin */\n",
       "body .mf { color: #666666 } /* Literal.Number.Float */\n",
       "body .mh { color: #666666 } /* Literal.Number.Hex */\n",
       "body .mi { color: #666666 } /* Literal.Number.Integer */\n",
       "body .mo { color: #666666 } /* Literal.Number.Oct */\n",
       "body .sa { color: #BA2121 } /* Literal.String.Affix */\n",
       "body .sb { color: #BA2121 } /* Literal.String.Backtick */\n",
       "body .sc { color: #BA2121 } /* Literal.String.Char */\n",
       "body .dl { color: #BA2121 } /* Literal.String.Delimiter */\n",
       "body .sd { color: #BA2121; font-style: italic } /* Literal.String.Doc */\n",
       "body .s2 { color: #BA2121 } /* Literal.String.Double */\n",
       "body .se { color: #BB6622; font-weight: bold } /* Literal.String.Escape */\n",
       "body .sh { color: #BA2121 } /* Literal.String.Heredoc */\n",
       "body .si { color: #BB6688; font-weight: bold } /* Literal.String.Interpol */\n",
       "body .sx { color: #008000 } /* Literal.String.Other */\n",
       "body .sr { color: #BB6688 } /* Literal.String.Regex */\n",
       "body .s1 { color: #BA2121 } /* Literal.String.Single */\n",
       "body .ss { color: #19177C } /* Literal.String.Symbol */\n",
       "body .bp { color: #008000 } /* Name.Builtin.Pseudo */\n",
       "body .fm { color: #0000FF } /* Name.Function.Magic */\n",
       "body .vc { color: #19177C } /* Name.Variable.Class */\n",
       "body .vg { color: #19177C } /* Name.Variable.Global */\n",
       "body .vi { color: #19177C } /* Name.Variable.Instance */\n",
       "body .vm { color: #19177C } /* Name.Variable.Magic */\n",
       "body .il { color: #666666 } /* Literal.Number.Integer.Long */\n",
       "\n",
       "  </style>\n",
       "</head>\n",
       "<body>\n",
       "<h2></h2>\n",
       "\n",
       "<div class=\"highlight\"><pre><span></span><span class=\"k\">def</span> <span class=\"nf\">process</span><span class=\"p\">(</span><span class=\"n\">p</span><span class=\"p\">):</span>\n",
       "\n",
       "    <span class=\"c1\"># cache the stopwords from nltk to save time</span>\n",
       "    <span class=\"n\">cachedStopWords</span> <span class=\"o\">=</span> <span class=\"nb\">set</span><span class=\"p\">(</span><span class=\"n\">stopwords</span><span class=\"o\">.</span><span class=\"n\">words</span><span class=\"p\">(</span><span class=\"s2\">&quot;english&quot;</span><span class=\"p\">))</span>\n",
       "\n",
       "    <span class=\"c1\"># removes any alphanumeric character in a particular paragraph</span>\n",
       "    <span class=\"n\">pl</span> <span class=\"o\">=</span> <span class=\"s2\">&quot;&quot;</span><span class=\"o\">.</span><span class=\"n\">join</span><span class=\"p\">([</span><span class=\"n\">c</span> <span class=\"k\">if</span> <span class=\"n\">c</span><span class=\"o\">.</span><span class=\"n\">isalnum</span><span class=\"p\">()</span> <span class=\"k\">else</span> <span class=\"s2\">&quot; &quot;</span> <span class=\"k\">for</span> <span class=\"n\">c</span> <span class=\"ow\">in</span> <span class=\"n\">p</span><span class=\"p\">])</span>\n",
       "\n",
       "    <span class=\"c1\"># converts all letters to lowercase in a particular paragraph</span>\n",
       "    <span class=\"n\">lc</span> <span class=\"o\">=</span> <span class=\"n\">pl</span><span class=\"o\">.</span><span class=\"n\">lower</span><span class=\"p\">()</span>\n",
       "\n",
       "    <span class=\"c1\"># removes stopwords from a particular paragraph</span>\n",
       "    <span class=\"n\">sl</span> <span class=\"o\">=</span> <span class=\"n\">re</span><span class=\"o\">.</span><span class=\"n\">compile</span><span class=\"p\">(</span><span class=\"sa\">r</span><span class=\"s1\">&#39;\\b(&#39;</span> <span class=\"o\">+</span> <span class=\"sa\">r</span><span class=\"s1\">&#39;|&#39;</span><span class=\"o\">.</span><span class=\"n\">join</span><span class=\"p\">(</span><span class=\"n\">cachedStopWords</span><span class=\"p\">)</span> <span class=\"o\">+</span> <span class=\"sa\">r</span><span class=\"s1\">&#39;)\\b\\s*&#39;</span><span class=\"p\">)</span><span class=\"o\">.</span><span class=\"n\">sub</span><span class=\"p\">(</span><span class=\"s1\">&#39;&#39;</span><span class=\"p\">,</span> <span class=\"n\">lc</span><span class=\"p\">)</span>\n",
       "\n",
       "    <span class=\"c1\"># replaces any double or more spaces with a single space</span>\n",
       "    <span class=\"n\">fp</span> <span class=\"o\">=</span> <span class=\"s2\">&quot; &quot;</span><span class=\"o\">.</span><span class=\"n\">join</span><span class=\"p\">(</span><span class=\"n\">sl</span><span class=\"o\">.</span><span class=\"n\">split</span><span class=\"p\">())</span>\n",
       "\n",
       "    <span class=\"k\">return</span> <span class=\"n\">fp</span>\n",
       "</pre></div>\n",
       "</body>\n",
       "</html>\n"
      ],
      "text/plain": [
       "<IPython.core.display.HTML object>"
      ]
     },
     "metadata": {},
     "output_type": "display_data"
    }
   ],
   "source": [
    "from text_preprocessor import *\n",
    "from notebook import psource\n",
    "\n",
    "psource(process)"
   ]
  },
  {
   "cell_type": "markdown",
   "metadata": {},
   "source": [
    "After removing stopwords, non-alphanumeric character, and lowercasing the dataset, we then create our desired datasets."
   ]
  },
  {
   "cell_type": "code",
   "execution_count": 2,
   "metadata": {},
   "outputs": [
    {
     "data": {
      "text/html": [
       "<!DOCTYPE html PUBLIC \"-//W3C//DTD HTML 4.01//EN\"\n",
       "   \"http://www.w3.org/TR/html4/strict.dtd\">\n",
       "\n",
       "<html>\n",
       "<head>\n",
       "  <title></title>\n",
       "  <meta http-equiv=\"content-type\" content=\"text/html; charset=None\">\n",
       "  <style type=\"text/css\">\n",
       "td.linenos { background-color: #f0f0f0; padding-right: 10px; }\n",
       "span.lineno { background-color: #f0f0f0; padding: 0 5px 0 5px; }\n",
       "pre { line-height: 125%; }\n",
       "body .hll { background-color: #ffffcc }\n",
       "body  { background: #f8f8f8; }\n",
       "body .c { color: #408080; font-style: italic } /* Comment */\n",
       "body .err { border: 1px solid #FF0000 } /* Error */\n",
       "body .k { color: #008000; font-weight: bold } /* Keyword */\n",
       "body .o { color: #666666 } /* Operator */\n",
       "body .ch { color: #408080; font-style: italic } /* Comment.Hashbang */\n",
       "body .cm { color: #408080; font-style: italic } /* Comment.Multiline */\n",
       "body .cp { color: #BC7A00 } /* Comment.Preproc */\n",
       "body .cpf { color: #408080; font-style: italic } /* Comment.PreprocFile */\n",
       "body .c1 { color: #408080; font-style: italic } /* Comment.Single */\n",
       "body .cs { color: #408080; font-style: italic } /* Comment.Special */\n",
       "body .gd { color: #A00000 } /* Generic.Deleted */\n",
       "body .ge { font-style: italic } /* Generic.Emph */\n",
       "body .gr { color: #FF0000 } /* Generic.Error */\n",
       "body .gh { color: #000080; font-weight: bold } /* Generic.Heading */\n",
       "body .gi { color: #00A000 } /* Generic.Inserted */\n",
       "body .go { color: #888888 } /* Generic.Output */\n",
       "body .gp { color: #000080; font-weight: bold } /* Generic.Prompt */\n",
       "body .gs { font-weight: bold } /* Generic.Strong */\n",
       "body .gu { color: #800080; font-weight: bold } /* Generic.Subheading */\n",
       "body .gt { color: #0044DD } /* Generic.Traceback */\n",
       "body .kc { color: #008000; font-weight: bold } /* Keyword.Constant */\n",
       "body .kd { color: #008000; font-weight: bold } /* Keyword.Declaration */\n",
       "body .kn { color: #008000; font-weight: bold } /* Keyword.Namespace */\n",
       "body .kp { color: #008000 } /* Keyword.Pseudo */\n",
       "body .kr { color: #008000; font-weight: bold } /* Keyword.Reserved */\n",
       "body .kt { color: #B00040 } /* Keyword.Type */\n",
       "body .m { color: #666666 } /* Literal.Number */\n",
       "body .s { color: #BA2121 } /* Literal.String */\n",
       "body .na { color: #7D9029 } /* Name.Attribute */\n",
       "body .nb { color: #008000 } /* Name.Builtin */\n",
       "body .nc { color: #0000FF; font-weight: bold } /* Name.Class */\n",
       "body .no { color: #880000 } /* Name.Constant */\n",
       "body .nd { color: #AA22FF } /* Name.Decorator */\n",
       "body .ni { color: #999999; font-weight: bold } /* Name.Entity */\n",
       "body .ne { color: #D2413A; font-weight: bold } /* Name.Exception */\n",
       "body .nf { color: #0000FF } /* Name.Function */\n",
       "body .nl { color: #A0A000 } /* Name.Label */\n",
       "body .nn { color: #0000FF; font-weight: bold } /* Name.Namespace */\n",
       "body .nt { color: #008000; font-weight: bold } /* Name.Tag */\n",
       "body .nv { color: #19177C } /* Name.Variable */\n",
       "body .ow { color: #AA22FF; font-weight: bold } /* Operator.Word */\n",
       "body .w { color: #bbbbbb } /* Text.Whitespace */\n",
       "body .mb { color: #666666 } /* Literal.Number.Bin */\n",
       "body .mf { color: #666666 } /* Literal.Number.Float */\n",
       "body .mh { color: #666666 } /* Literal.Number.Hex */\n",
       "body .mi { color: #666666 } /* Literal.Number.Integer */\n",
       "body .mo { color: #666666 } /* Literal.Number.Oct */\n",
       "body .sa { color: #BA2121 } /* Literal.String.Affix */\n",
       "body .sb { color: #BA2121 } /* Literal.String.Backtick */\n",
       "body .sc { color: #BA2121 } /* Literal.String.Char */\n",
       "body .dl { color: #BA2121 } /* Literal.String.Delimiter */\n",
       "body .sd { color: #BA2121; font-style: italic } /* Literal.String.Doc */\n",
       "body .s2 { color: #BA2121 } /* Literal.String.Double */\n",
       "body .se { color: #BB6622; font-weight: bold } /* Literal.String.Escape */\n",
       "body .sh { color: #BA2121 } /* Literal.String.Heredoc */\n",
       "body .si { color: #BB6688; font-weight: bold } /* Literal.String.Interpol */\n",
       "body .sx { color: #008000 } /* Literal.String.Other */\n",
       "body .sr { color: #BB6688 } /* Literal.String.Regex */\n",
       "body .s1 { color: #BA2121 } /* Literal.String.Single */\n",
       "body .ss { color: #19177C } /* Literal.String.Symbol */\n",
       "body .bp { color: #008000 } /* Name.Builtin.Pseudo */\n",
       "body .fm { color: #0000FF } /* Name.Function.Magic */\n",
       "body .vc { color: #19177C } /* Name.Variable.Class */\n",
       "body .vg { color: #19177C } /* Name.Variable.Global */\n",
       "body .vi { color: #19177C } /* Name.Variable.Instance */\n",
       "body .vm { color: #19177C } /* Name.Variable.Magic */\n",
       "body .il { color: #666666 } /* Literal.Number.Integer.Long */\n",
       "\n",
       "  </style>\n",
       "</head>\n",
       "<body>\n",
       "<h2></h2>\n",
       "\n",
       "<div class=\"highlight\"><pre><span></span><span class=\"k\">def</span> <span class=\"nf\">keyword_in_para</span><span class=\"p\">(</span><span class=\"n\">keywords</span><span class=\"p\">,</span> <span class=\"n\">p</span><span class=\"p\">):</span>\n",
       "    <span class=\"c1\"># given list of keywords to look for, true if paragraph contains any of them (false otherwise)</span>\n",
       "    <span class=\"k\">for</span> <span class=\"n\">keyword</span> <span class=\"ow\">in</span> <span class=\"n\">keywords</span><span class=\"p\">:</span>\n",
       "        <span class=\"k\">if</span> <span class=\"n\">keyword</span> <span class=\"ow\">in</span> <span class=\"n\">p</span><span class=\"p\">:</span>\n",
       "            <span class=\"k\">return</span> <span class=\"bp\">True</span>\n",
       "    <span class=\"k\">return</span> <span class=\"bp\">False</span>\n",
       "</pre></div>\n",
       "</body>\n",
       "</html>\n"
      ],
      "text/plain": [
       "<IPython.core.display.HTML object>"
      ]
     },
     "metadata": {},
     "output_type": "display_data"
    },
    {
     "data": {
      "text/html": [
       "<!DOCTYPE html PUBLIC \"-//W3C//DTD HTML 4.01//EN\"\n",
       "   \"http://www.w3.org/TR/html4/strict.dtd\">\n",
       "\n",
       "<html>\n",
       "<head>\n",
       "  <title></title>\n",
       "  <meta http-equiv=\"content-type\" content=\"text/html; charset=None\">\n",
       "  <style type=\"text/css\">\n",
       "td.linenos { background-color: #f0f0f0; padding-right: 10px; }\n",
       "span.lineno { background-color: #f0f0f0; padding: 0 5px 0 5px; }\n",
       "pre { line-height: 125%; }\n",
       "body .hll { background-color: #ffffcc }\n",
       "body  { background: #f8f8f8; }\n",
       "body .c { color: #408080; font-style: italic } /* Comment */\n",
       "body .err { border: 1px solid #FF0000 } /* Error */\n",
       "body .k { color: #008000; font-weight: bold } /* Keyword */\n",
       "body .o { color: #666666 } /* Operator */\n",
       "body .ch { color: #408080; font-style: italic } /* Comment.Hashbang */\n",
       "body .cm { color: #408080; font-style: italic } /* Comment.Multiline */\n",
       "body .cp { color: #BC7A00 } /* Comment.Preproc */\n",
       "body .cpf { color: #408080; font-style: italic } /* Comment.PreprocFile */\n",
       "body .c1 { color: #408080; font-style: italic } /* Comment.Single */\n",
       "body .cs { color: #408080; font-style: italic } /* Comment.Special */\n",
       "body .gd { color: #A00000 } /* Generic.Deleted */\n",
       "body .ge { font-style: italic } /* Generic.Emph */\n",
       "body .gr { color: #FF0000 } /* Generic.Error */\n",
       "body .gh { color: #000080; font-weight: bold } /* Generic.Heading */\n",
       "body .gi { color: #00A000 } /* Generic.Inserted */\n",
       "body .go { color: #888888 } /* Generic.Output */\n",
       "body .gp { color: #000080; font-weight: bold } /* Generic.Prompt */\n",
       "body .gs { font-weight: bold } /* Generic.Strong */\n",
       "body .gu { color: #800080; font-weight: bold } /* Generic.Subheading */\n",
       "body .gt { color: #0044DD } /* Generic.Traceback */\n",
       "body .kc { color: #008000; font-weight: bold } /* Keyword.Constant */\n",
       "body .kd { color: #008000; font-weight: bold } /* Keyword.Declaration */\n",
       "body .kn { color: #008000; font-weight: bold } /* Keyword.Namespace */\n",
       "body .kp { color: #008000 } /* Keyword.Pseudo */\n",
       "body .kr { color: #008000; font-weight: bold } /* Keyword.Reserved */\n",
       "body .kt { color: #B00040 } /* Keyword.Type */\n",
       "body .m { color: #666666 } /* Literal.Number */\n",
       "body .s { color: #BA2121 } /* Literal.String */\n",
       "body .na { color: #7D9029 } /* Name.Attribute */\n",
       "body .nb { color: #008000 } /* Name.Builtin */\n",
       "body .nc { color: #0000FF; font-weight: bold } /* Name.Class */\n",
       "body .no { color: #880000 } /* Name.Constant */\n",
       "body .nd { color: #AA22FF } /* Name.Decorator */\n",
       "body .ni { color: #999999; font-weight: bold } /* Name.Entity */\n",
       "body .ne { color: #D2413A; font-weight: bold } /* Name.Exception */\n",
       "body .nf { color: #0000FF } /* Name.Function */\n",
       "body .nl { color: #A0A000 } /* Name.Label */\n",
       "body .nn { color: #0000FF; font-weight: bold } /* Name.Namespace */\n",
       "body .nt { color: #008000; font-weight: bold } /* Name.Tag */\n",
       "body .nv { color: #19177C } /* Name.Variable */\n",
       "body .ow { color: #AA22FF; font-weight: bold } /* Operator.Word */\n",
       "body .w { color: #bbbbbb } /* Text.Whitespace */\n",
       "body .mb { color: #666666 } /* Literal.Number.Bin */\n",
       "body .mf { color: #666666 } /* Literal.Number.Float */\n",
       "body .mh { color: #666666 } /* Literal.Number.Hex */\n",
       "body .mi { color: #666666 } /* Literal.Number.Integer */\n",
       "body .mo { color: #666666 } /* Literal.Number.Oct */\n",
       "body .sa { color: #BA2121 } /* Literal.String.Affix */\n",
       "body .sb { color: #BA2121 } /* Literal.String.Backtick */\n",
       "body .sc { color: #BA2121 } /* Literal.String.Char */\n",
       "body .dl { color: #BA2121 } /* Literal.String.Delimiter */\n",
       "body .sd { color: #BA2121; font-style: italic } /* Literal.String.Doc */\n",
       "body .s2 { color: #BA2121 } /* Literal.String.Double */\n",
       "body .se { color: #BB6622; font-weight: bold } /* Literal.String.Escape */\n",
       "body .sh { color: #BA2121 } /* Literal.String.Heredoc */\n",
       "body .si { color: #BB6688; font-weight: bold } /* Literal.String.Interpol */\n",
       "body .sx { color: #008000 } /* Literal.String.Other */\n",
       "body .sr { color: #BB6688 } /* Literal.String.Regex */\n",
       "body .s1 { color: #BA2121 } /* Literal.String.Single */\n",
       "body .ss { color: #19177C } /* Literal.String.Symbol */\n",
       "body .bp { color: #008000 } /* Name.Builtin.Pseudo */\n",
       "body .fm { color: #0000FF } /* Name.Function.Magic */\n",
       "body .vc { color: #19177C } /* Name.Variable.Class */\n",
       "body .vg { color: #19177C } /* Name.Variable.Global */\n",
       "body .vi { color: #19177C } /* Name.Variable.Instance */\n",
       "body .vm { color: #19177C } /* Name.Variable.Magic */\n",
       "body .il { color: #666666 } /* Literal.Number.Integer.Long */\n",
       "\n",
       "  </style>\n",
       "</head>\n",
       "<body>\n",
       "<h2></h2>\n",
       "\n",
       "<div class=\"highlight\"><pre><span></span><span class=\"k\">def</span> <span class=\"nf\">create_output</span><span class=\"p\">(</span><span class=\"n\">filename</span><span class=\"p\">):</span>\n",
       "\n",
       "\t<span class=\"c1\"># initialize strings that contain the output corresponding to each list of keywords</span>\n",
       "\t<span class=\"n\">emailOutput</span> <span class=\"o\">=</span> <span class=\"n\">creditCardOutput</span> <span class=\"o\">=</span> <span class=\"n\">SSNOutput</span> <span class=\"o\">=</span> <span class=\"n\">adsOutput</span> <span class=\"o\">=</span> <span class=\"n\">locationOutput</span> <span class=\"o\">=</span> <span class=\"n\">PIIOutput</span> <span class=\"o\">=</span> <span class=\"n\">lawOutput</span> <span class=\"o\">=</span> <span class=\"n\">changeOutput</span> <span class=\"o\">=</span> <span class=\"n\">controlOutput</span> <span class=\"o\">=</span> <span class=\"n\">aggOutput</span> <span class=\"o\">=</span> <span class=\"s2\">&quot;&quot;</span>\n",
       "\n",
       "\t<span class=\"c1\"># initialize the lists of keywords</span>\n",
       "\t<span class=\"n\">emailFactors</span> <span class=\"o\">=</span> <span class=\"p\">[</span><span class=\"s2\">&quot;email&quot;</span><span class=\"p\">,</span> <span class=\"s2\">&quot;mail&quot;</span><span class=\"p\">,</span> <span class=\"s2\">&quot;third&quot;</span><span class=\"p\">,</span> <span class=\"s2\">&quot;party&quot;</span><span class=\"p\">,</span> <span class=\"s2\">&quot;share&quot;</span><span class=\"p\">,</span> <span class=\"s2\">&quot;sell&quot;</span><span class=\"p\">,</span> <span class=\"s2\">&quot;promote&quot;</span><span class=\"p\">,</span> <span class=\"s2\">&quot;affiliate&quot;</span><span class=\"p\">]</span>\n",
       "\t<span class=\"n\">creditCard</span> <span class=\"o\">=</span> <span class=\"p\">[</span><span class=\"s2\">&quot;credit&quot;</span><span class=\"p\">,</span> <span class=\"s2\">&quot;debit&quot;</span><span class=\"p\">,</span> <span class=\"s2\">&quot;card&quot;</span><span class=\"p\">,</span> <span class=\"s2\">&quot;bill&quot;</span><span class=\"p\">,</span> <span class=\"s2\">&quot;pay&quot;</span><span class=\"p\">,</span> <span class=\"s2\">&quot;third&quot;</span><span class=\"p\">,</span> <span class=\"s2\">&quot;party&quot;</span><span class=\"p\">,</span> <span class=\"s2\">&quot;share&quot;</span><span class=\"p\">,</span> <span class=\"s2\">&quot;sell&quot;</span><span class=\"p\">,</span> <span class=\"s2\">&quot;promote&quot;</span><span class=\"p\">,</span> <span class=\"s2\">&quot;affiliate&quot;</span><span class=\"p\">]</span>\n",
       "\t<span class=\"n\">SSN</span> <span class=\"o\">=</span> <span class=\"p\">[</span><span class=\"s2\">&quot;social&quot;</span><span class=\"p\">,</span> <span class=\"s2\">&quot;security&quot;</span><span class=\"p\">,</span> <span class=\"s2\">&quot;number&quot;</span><span class=\"p\">,</span> <span class=\"s2\">&quot;ssn&quot;</span><span class=\"p\">,</span> <span class=\"s2\">&quot;third&quot;</span><span class=\"p\">,</span> <span class=\"s2\">&quot;party&quot;</span><span class=\"p\">,</span> <span class=\"s2\">&quot;share&quot;</span><span class=\"p\">,</span> <span class=\"s2\">&quot;sell&quot;</span><span class=\"p\">,</span> <span class=\"s2\">&quot;promote&quot;</span><span class=\"p\">,</span> <span class=\"s2\">&quot;affiliate&quot;</span><span class=\"p\">]</span>\n",
       "\t<span class=\"n\">ads</span> <span class=\"o\">=</span> <span class=\"p\">[</span><span class=\"s2\">&quot;ad&quot;</span><span class=\"p\">,</span> <span class=\"s2\">&quot;ads&quot;</span><span class=\"p\">,</span> <span class=\"s2\">&quot;market&quot;</span><span class=\"p\">,</span> <span class=\"s2\">&quot;third&quot;</span><span class=\"p\">,</span> <span class=\"s2\">&quot;party&quot;</span><span class=\"p\">,</span> <span class=\"s2\">&quot;share&quot;</span><span class=\"p\">,</span> <span class=\"s2\">&quot;sell&quot;</span><span class=\"p\">,</span> <span class=\"s2\">&quot;promote&quot;</span><span class=\"p\">,</span> <span class=\"s2\">&quot;affiliate&quot;</span><span class=\"p\">]</span>\n",
       "\t<span class=\"n\">location</span> <span class=\"o\">=</span> <span class=\"p\">[</span><span class=\"s2\">&quot;locate&quot;</span><span class=\"p\">,</span> <span class=\"s2\">&quot;location&quot;</span><span class=\"p\">,</span> <span class=\"s2\">&quot;geo&quot;</span><span class=\"p\">,</span> <span class=\"s2\">&quot;mobile&quot;</span><span class=\"p\">,</span> <span class=\"s2\">&quot;gps&quot;</span><span class=\"p\">,</span> <span class=\"s2\">&quot;third&quot;</span><span class=\"p\">,</span> <span class=\"s2\">&quot;party&quot;</span><span class=\"p\">,</span> <span class=\"s2\">&quot;share&quot;</span><span class=\"p\">,</span> <span class=\"s2\">&quot;sell&quot;</span><span class=\"p\">,</span> <span class=\"s2\">&quot;promote&quot;</span><span class=\"p\">,</span> <span class=\"s2\">&quot;affiliate&quot;</span><span class=\"p\">]</span>\n",
       "\t<span class=\"n\">childrenPII</span> <span class=\"o\">=</span> <span class=\"p\">[</span><span class=\"s2\">&quot;age&quot;</span><span class=\"p\">,</span> <span class=\"s2\">&quot;child&quot;</span><span class=\"p\">]</span>\n",
       "\t<span class=\"n\">law</span> <span class=\"o\">=</span> <span class=\"p\">[</span><span class=\"s2\">&quot;law&quot;</span><span class=\"p\">,</span> <span class=\"s2\">&quot;regulate&quot;</span><span class=\"p\">,</span> <span class=\"s2\">&quot;legal&quot;</span><span class=\"p\">,</span> <span class=\"s2\">&quot;government&quot;</span><span class=\"p\">,</span> <span class=\"s2\">&quot;warrant&quot;</span><span class=\"p\">,</span> <span class=\"s2\">&quot;subpoena&quot;</span><span class=\"p\">,</span> <span class=\"s2\">&quot;court&quot;</span><span class=\"p\">,</span> <span class=\"s2\">&quot;judge&quot;</span><span class=\"p\">]</span>\n",
       "\t<span class=\"n\">change</span> <span class=\"o\">=</span> <span class=\"p\">[</span><span class=\"s2\">&quot;notice&quot;</span><span class=\"p\">,</span> <span class=\"s2\">&quot;change&quot;</span><span class=\"p\">,</span> <span class=\"s2\">&quot;update&quot;</span><span class=\"p\">,</span> <span class=\"s2\">&quot;post&quot;</span><span class=\"p\">]</span>\n",
       "\t<span class=\"n\">dataControl</span> <span class=\"o\">=</span> <span class=\"p\">[</span><span class=\"s2\">&quot;data&quot;</span><span class=\"p\">,</span> <span class=\"s2\">&quot;choice&quot;</span><span class=\"p\">,</span> <span class=\"s2\">&quot;edit&quot;</span><span class=\"p\">,</span> <span class=\"s2\">&quot;delete&quot;</span><span class=\"p\">,</span> <span class=\"s2\">&quot;limit&quot;</span><span class=\"p\">,</span> <span class=\"s2\">&quot;setting&quot;</span><span class=\"p\">,</span> <span class=\"s2\">&quot;account&quot;</span><span class=\"p\">,</span> <span class=\"s2\">&quot;access&quot;</span><span class=\"p\">,</span> <span class=\"s2\">&quot;update&quot;</span><span class=\"p\">,</span> <span class=\"s2\">&quot;control&quot;</span><span class=\"p\">]</span>\n",
       "\t<span class=\"n\">dataAgg</span> <span class=\"o\">=</span> <span class=\"p\">[</span><span class=\"s2\">&quot;data&quot;</span><span class=\"p\">,</span> <span class=\"s2\">&quot;aggregate&quot;</span><span class=\"p\">,</span> <span class=\"s2\">&quot;identity&quot;</span><span class=\"p\">,</span> <span class=\"s2\">&quot;identifiable&quot;</span><span class=\"p\">,</span> <span class=\"s2\">&quot;identify&quot;</span><span class=\"p\">]</span>\n",
       "\n",
       "\t<span class=\"c1\"># create lists of factors</span>\n",
       "\t<span class=\"n\">factors</span> <span class=\"o\">=</span> <span class=\"p\">[</span><span class=\"n\">emailFactors</span><span class=\"p\">,</span> <span class=\"n\">creditCard</span><span class=\"p\">,</span> <span class=\"n\">SSN</span><span class=\"p\">,</span> <span class=\"n\">ads</span><span class=\"p\">,</span> <span class=\"n\">location</span><span class=\"p\">,</span> <span class=\"n\">childrenPII</span><span class=\"p\">,</span> <span class=\"n\">law</span><span class=\"p\">,</span> <span class=\"n\">change</span><span class=\"p\">,</span> <span class=\"n\">dataControl</span><span class=\"p\">,</span> <span class=\"n\">dataAgg</span><span class=\"p\">]</span>\n",
       "\n",
       "\t<span class=\"c1\"># open an example privacy policy and split it by newline to make a list of paragraphs</span>\n",
       "\t<span class=\"n\">paras</span> <span class=\"o\">=</span> <span class=\"nb\">open</span><span class=\"p\">(</span><span class=\"n\">filename</span><span class=\"p\">,</span><span class=\"s2\">&quot;r&quot;</span><span class=\"p\">)</span><span class=\"o\">.</span><span class=\"n\">read</span><span class=\"p\">()</span><span class=\"o\">.</span><span class=\"n\">splitlines</span><span class=\"p\">()</span>\n",
       "\n",
       "\t<span class=\"c1\"># define this function to use for a labeled break procedure</span>\n",
       "\t<span class=\"c1\"># build an output for each factor</span>\n",
       "\t<span class=\"n\">outputs</span> <span class=\"o\">=</span> <span class=\"p\">[]</span>\n",
       "\t<span class=\"k\">for</span> <span class=\"n\">factor</span> <span class=\"ow\">in</span> <span class=\"n\">factors</span><span class=\"p\">:</span>\n",
       "\t    <span class=\"n\">outputs</span><span class=\"o\">.</span><span class=\"n\">append</span><span class=\"p\">([</span><span class=\"n\">process</span><span class=\"p\">(</span><span class=\"n\">p</span><span class=\"p\">)</span> <span class=\"k\">for</span> <span class=\"n\">p</span> <span class=\"ow\">in</span> <span class=\"n\">paras</span> <span class=\"k\">if</span> <span class=\"n\">keyword_in_para</span><span class=\"p\">(</span><span class=\"n\">factor</span><span class=\"p\">,</span> <span class=\"n\">process</span><span class=\"p\">(</span><span class=\"n\">p</span><span class=\"p\">))])</span>\n",
       "\n",
       "\t<span class=\"k\">return</span> <span class=\"n\">outputs</span>\n",
       "</pre></div>\n",
       "</body>\n",
       "</html>\n"
      ],
      "text/plain": [
       "<IPython.core.display.HTML object>"
      ]
     },
     "metadata": {},
     "output_type": "display_data"
    }
   ],
   "source": [
    "psource(keyword_in_para)\n",
    "\n",
    "psource(create_output)"
   ]
  },
  {
   "cell_type": "markdown",
   "metadata": {},
   "source": [
    "Here, we search each paragraph per text file containing a privacy policy. If a particular paragraph contains a keyword from our search words, we keep it for our training and testing data."
   ]
  },
  {
   "cell_type": "markdown",
   "metadata": {},
   "source": [
    "We wish to train on integers and not strings, so we create a word_index dictionary that maps every unique word to a unique integer. There are around $10,000$ unique words in this dataset."
   ]
  },
  {
   "cell_type": "code",
   "execution_count": 3,
   "metadata": {},
   "outputs": [
    {
     "data": {
      "text/html": [
       "<!DOCTYPE html PUBLIC \"-//W3C//DTD HTML 4.01//EN\"\n",
       "   \"http://www.w3.org/TR/html4/strict.dtd\">\n",
       "\n",
       "<html>\n",
       "<head>\n",
       "  <title></title>\n",
       "  <meta http-equiv=\"content-type\" content=\"text/html; charset=None\">\n",
       "  <style type=\"text/css\">\n",
       "td.linenos { background-color: #f0f0f0; padding-right: 10px; }\n",
       "span.lineno { background-color: #f0f0f0; padding: 0 5px 0 5px; }\n",
       "pre { line-height: 125%; }\n",
       "body .hll { background-color: #ffffcc }\n",
       "body  { background: #f8f8f8; }\n",
       "body .c { color: #408080; font-style: italic } /* Comment */\n",
       "body .err { border: 1px solid #FF0000 } /* Error */\n",
       "body .k { color: #008000; font-weight: bold } /* Keyword */\n",
       "body .o { color: #666666 } /* Operator */\n",
       "body .ch { color: #408080; font-style: italic } /* Comment.Hashbang */\n",
       "body .cm { color: #408080; font-style: italic } /* Comment.Multiline */\n",
       "body .cp { color: #BC7A00 } /* Comment.Preproc */\n",
       "body .cpf { color: #408080; font-style: italic } /* Comment.PreprocFile */\n",
       "body .c1 { color: #408080; font-style: italic } /* Comment.Single */\n",
       "body .cs { color: #408080; font-style: italic } /* Comment.Special */\n",
       "body .gd { color: #A00000 } /* Generic.Deleted */\n",
       "body .ge { font-style: italic } /* Generic.Emph */\n",
       "body .gr { color: #FF0000 } /* Generic.Error */\n",
       "body .gh { color: #000080; font-weight: bold } /* Generic.Heading */\n",
       "body .gi { color: #00A000 } /* Generic.Inserted */\n",
       "body .go { color: #888888 } /* Generic.Output */\n",
       "body .gp { color: #000080; font-weight: bold } /* Generic.Prompt */\n",
       "body .gs { font-weight: bold } /* Generic.Strong */\n",
       "body .gu { color: #800080; font-weight: bold } /* Generic.Subheading */\n",
       "body .gt { color: #0044DD } /* Generic.Traceback */\n",
       "body .kc { color: #008000; font-weight: bold } /* Keyword.Constant */\n",
       "body .kd { color: #008000; font-weight: bold } /* Keyword.Declaration */\n",
       "body .kn { color: #008000; font-weight: bold } /* Keyword.Namespace */\n",
       "body .kp { color: #008000 } /* Keyword.Pseudo */\n",
       "body .kr { color: #008000; font-weight: bold } /* Keyword.Reserved */\n",
       "body .kt { color: #B00040 } /* Keyword.Type */\n",
       "body .m { color: #666666 } /* Literal.Number */\n",
       "body .s { color: #BA2121 } /* Literal.String */\n",
       "body .na { color: #7D9029 } /* Name.Attribute */\n",
       "body .nb { color: #008000 } /* Name.Builtin */\n",
       "body .nc { color: #0000FF; font-weight: bold } /* Name.Class */\n",
       "body .no { color: #880000 } /* Name.Constant */\n",
       "body .nd { color: #AA22FF } /* Name.Decorator */\n",
       "body .ni { color: #999999; font-weight: bold } /* Name.Entity */\n",
       "body .ne { color: #D2413A; font-weight: bold } /* Name.Exception */\n",
       "body .nf { color: #0000FF } /* Name.Function */\n",
       "body .nl { color: #A0A000 } /* Name.Label */\n",
       "body .nn { color: #0000FF; font-weight: bold } /* Name.Namespace */\n",
       "body .nt { color: #008000; font-weight: bold } /* Name.Tag */\n",
       "body .nv { color: #19177C } /* Name.Variable */\n",
       "body .ow { color: #AA22FF; font-weight: bold } /* Operator.Word */\n",
       "body .w { color: #bbbbbb } /* Text.Whitespace */\n",
       "body .mb { color: #666666 } /* Literal.Number.Bin */\n",
       "body .mf { color: #666666 } /* Literal.Number.Float */\n",
       "body .mh { color: #666666 } /* Literal.Number.Hex */\n",
       "body .mi { color: #666666 } /* Literal.Number.Integer */\n",
       "body .mo { color: #666666 } /* Literal.Number.Oct */\n",
       "body .sa { color: #BA2121 } /* Literal.String.Affix */\n",
       "body .sb { color: #BA2121 } /* Literal.String.Backtick */\n",
       "body .sc { color: #BA2121 } /* Literal.String.Char */\n",
       "body .dl { color: #BA2121 } /* Literal.String.Delimiter */\n",
       "body .sd { color: #BA2121; font-style: italic } /* Literal.String.Doc */\n",
       "body .s2 { color: #BA2121 } /* Literal.String.Double */\n",
       "body .se { color: #BB6622; font-weight: bold } /* Literal.String.Escape */\n",
       "body .sh { color: #BA2121 } /* Literal.String.Heredoc */\n",
       "body .si { color: #BB6688; font-weight: bold } /* Literal.String.Interpol */\n",
       "body .sx { color: #008000 } /* Literal.String.Other */\n",
       "body .sr { color: #BB6688 } /* Literal.String.Regex */\n",
       "body .s1 { color: #BA2121 } /* Literal.String.Single */\n",
       "body .ss { color: #19177C } /* Literal.String.Symbol */\n",
       "body .bp { color: #008000 } /* Name.Builtin.Pseudo */\n",
       "body .fm { color: #0000FF } /* Name.Function.Magic */\n",
       "body .vc { color: #19177C } /* Name.Variable.Class */\n",
       "body .vg { color: #19177C } /* Name.Variable.Global */\n",
       "body .vi { color: #19177C } /* Name.Variable.Instance */\n",
       "body .vm { color: #19177C } /* Name.Variable.Magic */\n",
       "body .il { color: #666666 } /* Literal.Number.Integer.Long */\n",
       "\n",
       "  </style>\n",
       "</head>\n",
       "<body>\n",
       "<h2></h2>\n",
       "\n",
       "<div class=\"highlight\"><pre><span></span><span class=\"k\">def</span> <span class=\"nf\">create_dictionary</span><span class=\"p\">():</span>\n",
       "    \n",
       "    <span class=\"c1\"># initialize an empty string that will hold every word in every text file</span>\n",
       "\t<span class=\"n\">words</span> <span class=\"o\">=</span> <span class=\"s2\">&quot;&quot;</span>\n",
       "    \n",
       "    <span class=\"c1\"># initialize a dictionary with the key &quot;&lt;PAD&gt;&quot; corresponding to the value 0, this is to utulize sequence padding from keras</span>\n",
       "\t<span class=\"n\">d</span> <span class=\"o\">=</span> <span class=\"p\">{}</span>\n",
       "\t<span class=\"n\">d</span><span class=\"p\">[</span><span class=\"s2\">&quot;&lt;PAD&gt;&quot;</span><span class=\"p\">]</span> <span class=\"o\">=</span> <span class=\"mi\">0</span>\n",
       "\n",
       "    <span class=\"c1\"># read in every word from every file</span>\n",
       "\t<span class=\"k\">for</span> <span class=\"n\">i</span> <span class=\"ow\">in</span> <span class=\"nb\">range</span><span class=\"p\">(</span><span class=\"mi\">2</span><span class=\"p\">,</span> <span class=\"mi\">456</span><span class=\"p\">):</span>\n",
       "\t\t<span class=\"k\">try</span><span class=\"p\">:</span>\n",
       "\t\t\t<span class=\"n\">words</span> <span class=\"o\">=</span> <span class=\"n\">words</span> <span class=\"o\">+</span> <span class=\"n\">process</span><span class=\"p\">(</span><span class=\"nb\">open</span><span class=\"p\">(</span><span class=\"s2\">&quot;UTA/</span><span class=\"si\">%i</span><span class=\"s2\">.txt&quot;</span> <span class=\"o\">%</span> <span class=\"n\">i</span><span class=\"p\">,</span><span class=\"s2\">&quot;r&quot;</span><span class=\"p\">)</span><span class=\"o\">.</span><span class=\"n\">read</span><span class=\"p\">())</span> <span class=\"o\">+</span> <span class=\"s2\">&quot; &quot;</span>\n",
       "\t\t<span class=\"k\">except</span><span class=\"p\">:</span>\n",
       "\t\t\t<span class=\"k\">continue</span>\n",
       "    \n",
       "    <span class=\"c1\"># split the string of every word into a list by whitespace</span>\n",
       "\t<span class=\"n\">words</span> <span class=\"o\">=</span> <span class=\"n\">words</span><span class=\"o\">.</span><span class=\"n\">split</span><span class=\"p\">(</span><span class=\"s2\">&quot; &quot;</span><span class=\"p\">)</span>\n",
       "\n",
       "    <span class=\"c1\"># fill the dictionary with unique word-value pairs</span>\n",
       "\t<span class=\"n\">value</span> <span class=\"o\">=</span> <span class=\"mi\">1</span>\n",
       "\t<span class=\"k\">for</span> <span class=\"n\">word</span> <span class=\"ow\">in</span> <span class=\"n\">words</span><span class=\"p\">:</span>\n",
       "\t\t<span class=\"k\">if</span> <span class=\"n\">word</span> <span class=\"ow\">in</span> <span class=\"n\">d</span><span class=\"p\">:</span>\n",
       "\t\t\t<span class=\"k\">pass</span>\n",
       "\t\t<span class=\"k\">else</span><span class=\"p\">:</span>\n",
       "\t\t\t<span class=\"n\">d</span><span class=\"p\">[</span><span class=\"n\">word</span><span class=\"p\">]</span> <span class=\"o\">=</span> <span class=\"n\">value</span>\n",
       "\t\t\t<span class=\"n\">value</span> <span class=\"o\">+=</span> <span class=\"mi\">1</span>\n",
       "            \n",
       "    <span class=\"c1\"># return the dictionary</span>\n",
       "\t<span class=\"k\">return</span> <span class=\"n\">d</span>\n",
       "</pre></div>\n",
       "</body>\n",
       "</html>\n"
      ],
      "text/plain": [
       "<IPython.core.display.HTML object>"
      ]
     },
     "metadata": {},
     "output_type": "display_data"
    }
   ],
   "source": [
    "psource(create_dictionary)"
   ]
  },
  {
   "cell_type": "markdown",
   "metadata": {},
   "source": [
    "For training we utilize keras, an API from the tensorflow library."
   ]
  },
  {
   "cell_type": "code",
   "execution_count": 4,
   "metadata": {},
   "outputs": [
    {
     "name": "stdout",
     "output_type": "stream",
     "text": [
      "1.11.0\n"
     ]
    }
   ],
   "source": [
    "import tensorflow as tf\n",
    "import numpy as np\n",
    "from tensorflow import keras\n",
    "\n",
    "print(tf.__version__)"
   ]
  },
  {
   "cell_type": "markdown",
   "metadata": {},
   "source": [
    "The tensorflow version demonstrated in this jupyter notebook will be version 1.11.0 running on Python 3.6. We now build our dataset. To save computational time in our notebook, we will only demonstrate training on the email factors."
   ]
  },
  {
   "cell_type": "code",
   "execution_count": 5,
   "metadata": {},
   "outputs": [],
   "source": [
    "import pandas as pd\n",
    "\n",
    "# load the csv file\n",
    "word_index = create_dictionary()\n",
    "csv_loc = \"C:/Users/Stephen/Desktop/4444-Group-Project/neural_net/question-set.csv\"\n",
    "df = pd.read_csv(csv_loc, sep = \",\", header = 0)\n",
    "\n",
    "# create empty lists for training and testing sets\n",
    "email_test_data = []\n",
    "email_train_data = []\n",
    "email_test_labels = []\n",
    "email_train_labels = []"
   ]
  },
  {
   "cell_type": "markdown",
   "metadata": {},
   "source": [
    "Here, we load our csv files containing the data labels and create empty lists for our training and testing sets. We now fill these lists."
   ]
  },
  {
   "cell_type": "code",
   "execution_count": 6,
   "metadata": {},
   "outputs": [],
   "source": [
    "# fill training set\n",
    "for i in range(2, 400):\n",
    "    outputString = \"\"\n",
    "    try:\n",
    "        outputString = \" \".join(create_output(\"UTA/%i.txt\" % i)[0])\n",
    "        email_train_data.append(outputString.split(\" \"))\n",
    "        email_train_labels.append(int(df[\"Email\"][i-2]) % 3)\n",
    "    except:\n",
    "        continue\n",
    "        \n",
    "# convert to integers with the dictionary\n",
    "for i in range(len(email_train_data)):\n",
    "    for j in range(len(email_train_data[i])):\n",
    "        email_train_data[i][j] = word_index[email_train_data[i][j]]\n",
    "\n",
    "# fill testing set\n",
    "for i in range(400, 456):\n",
    "    outputString = \"\"\n",
    "    try:\n",
    "        outputString = \" \".join(create_output(\"UTA/%i.txt\" % i)[0])\n",
    "        email_test_data.append(outputString.split(\" \"))\n",
    "        email_test_labels.append(int(df[\"Email\"][i-2]) % 3)\n",
    "    except:\n",
    "        continue\n",
    "\n",
    "# convert to integers with the dictionary\n",
    "for i in range(len(email_test_data)):\n",
    "    for j in range(len(email_test_data[i])):\n",
    "        email_test_data[i][j] = word_index[email_test_data[i][j]]"
   ]
  },
  {
   "cell_type": "markdown",
   "metadata": {},
   "source": [
    "We can take a moment to explore the data and understand its format. Each example is now an array of integers representing the words of the privacy policy. In our specific case, these will be words with relevance to the email factor. Each label is an integer value of $1$, $2$, or $3\\pmod 3$. "
   ]
  },
  {
   "cell_type": "code",
   "execution_count": 7,
   "metadata": {},
   "outputs": [
    {
     "name": "stdout",
     "output_type": "stream",
     "text": [
      "Training entries: 292, labels: 292\n"
     ]
    }
   ],
   "source": [
    "print(\"Training entries: {}, labels: {}\".format(len(email_train_data), len(email_train_labels)))"
   ]
  },
  {
   "cell_type": "markdown",
   "metadata": {},
   "source": [
    "Here is what the first privacy policy looks like in integer format:"
   ]
  },
  {
   "cell_type": "code",
   "execution_count": 8,
   "metadata": {},
   "outputs": [
    {
     "name": "stdout",
     "output_type": "stream",
     "text": [
      "[61, 62, 12, 5, 6, 102, 103, 104, 84, 105, 106, 86, 8, 79, 103, 104, 86, 103, 104, 107, 86, 108, 22, 109, 110, 111, 112, 99, 59, 86, 92, 110, 80, 113, 114, 115, 116, 117, 86, 118, 85, 92, 19, 119, 90, 91, 120, 121, 48, 122, 123, 92, 110, 92, 124, 125, 86, 126, 81, 92, 19, 127, 128, 126, 129, 5, 130, 131, 132, 92, 133, 126, 59, 134, 135, 136, 8, 87, 134, 137, 132, 12, 126, 138, 139, 140, 141, 142, 126, 143, 144, 134, 145, 146, 92, 147, 141, 126, 134, 12, 161, 162, 126, 134, 92, 90, 91, 120, 163, 8, 164, 165, 166, 167, 168, 169, 170, 134, 171, 171, 126, 172, 173, 22, 150, 174, 175, 16, 86, 176, 8, 177, 178, 179, 171, 180, 181, 12, 182, 12, 179, 165, 86, 184, 153, 95, 185, 86, 184, 186, 187, 188, 189, 190, 153, 154, 191, 192, 8, 193, 194, 195, 196, 197, 116, 198, 199, 200, 115, 201, 103, 104, 86, 43, 238, 12, 58, 12, 92, 103, 239, 240, 241, 242, 238, 38, 192, 59, 101, 165, 117, 120, 211, 165, 140, 216, 225, 243, 242, 238, 8, 38, 158, 57, 238, 12, 226, 244, 245, 246, 247, 225, 224, 12, 8, 10, 248, 170, 249, 88, 86, 35, 241, 57, 12, 88, 86, 38, 158, 209, 248, 170, 250, 249, 103, 239, 38, 57, 12, 251, 88, 86, 252, 88, 75, 86, 171, 59, 249, 131, 253, 224, 6, 103, 104, 86, 92, 254, 255, 256, 103, 104, 86, 126, 257, 103, 104, 86, 105, 106, 86, 92, 255, 153, 154, 258, 259, 260, 126, 261, 262, 103, 104, 93, 38, 61, 263, 12, 8, 192, 264, 265, 230, 261, 255, 115, 266, 126, 38, 58, 95, 267, 164, 165, 153, 154, 268, 188, 12, 230, 269, 24, 270, 8, 271, 272, 153, 154, 135, 5, 129, 273, 103, 104, 86, 274, 19, 38, 275, 8, 103, 104, 93, 261, 8, 153, 276, 99, 12, 277, 270, 8, 244, 110, 103, 104, 262, 278, 58, 279, 280, 103, 104, 86, 281, 86, 12, 103, 104, 86, 173, 103, 104, 19, 8, 38, 58, 19, 286, 287, 215, 288, 289, 290, 291, 292, 101, 293, 294, 295, 296, 297, 298, 59, 24, 12, 299, 300, 19, 38, 301, 12, 57, 302, 209, 303, 304, 19, 211, 305, 306, 307, 308, 309, 302, 128, 192, 310, 75, 289, 164, 311, 312, 92, 19, 43, 8, 244, 92, 331, 80, 332, 42, 92, 110, 92, 59, 86, 333, 334, 332, 21, 8, 51, 92, 19, 92, 50, 92, 38, 192, 59, 86, 335, 336, 99, 126, 337, 338, 339, 129, 99, 340, 341, 61, 336, 92, 19, 323, 102, 37, 86, 383, 384, 385, 38, 383, 93, 351, 386, 384, 114, 200, 385, 38, 158, 132, 387, 18, 86, 86, 388, 389, 86, 292, 273, 63, 390, 273, 385, 391, 392, 86, 38, 393, 22, 394, 383, 384, 382, 395, 197, 396, 385, 397, 8, 289, 114, 398, 235, 58, 61, 62, 12, 55, 7, 8, 38, 61, 62, 12, 150, 243, 37, 130, 453, 454, 12, 8, 398, 103, 239, 254, 61, 62, 12, 92, 331, 8, 455, 61, 62, 92, 19, 244, 92, 331, 80, 332, 42, 92, 110, 92, 59, 86, 333, 447, 332, 21, 357, 246, 456, 86, 153, 95, 457, 12, 38, 458, 153, 154, 459, 194, 192, 153, 95, 164, 165, 38, 458, 126, 460, 131, 461, 35, 432, 12, 86, 333, 462, 298, 86, 176, 427, 149, 153, 154, 463, 464, 194, 465, 201, 195, 12, 153, 95, 460, 12, 38, 201, 466, 37, 130, 126, 103, 104, 93, 473, 297, 38, 474, 103, 104, 475, 151, 93, 473, 101, 297, 246, 12, 320, 101, 103, 239, 38, 192, 176, 476, 477, 265, 86, 188, 12, 478, 59, 320, 112, 86, 479, 480, 8, 478, 103, 104, 86, 92, 38, 258, 255, 153, 154, 258, 103, 104, 86, 261, 8, 38, 61, 12, 103, 104, 86, 103, 104, 86, 481, 482, 8, 103, 239, 152, 99, 12, 38, 37, 130, 483, 59, 131, 135, 5, 129, 273, 103, 104, 86, 132, 262, 127, 484, 295, 8, 38, 61, 12, 484, 295, 485, 296, 486, 8, 101, 8, 487, 488, 489, 490, 491, 492, 493, 8, 494, 495, 496, 497, 498, 499, 489, 500, 101, 170, 501, 502, 503, 504, 356, 90, 91, 505, 506, 12, 38, 201, 507, 466, 508, 509, 510, 409, 410, 411, 19, 38, 62, 59, 409, 410, 411, 12, 416, 192, 38, 61, 409, 410, 411, 12, 511, 297, 101, 512, 436, 513, 514, 8, 92, 515, 516, 219, 517, 518, 519, 126, 451, 71, 349, 390, 526, 347, 527, 71, 528, 526, 8, 103, 239, 80, 529, 530, 37, 531, 532, 533, 390, 63, 352, 245, 8, 38, 61, 12, 103, 239, 245, 8, 38, 486, 5, 6, 219, 219, 520, 574, 575, 576, 577, 38, 24, 18, 435, 38, 24, 18, 101, 578, 18, 213, 579, 431, 5, 6, 580, 581, 24, 18, 582, 583, 5, 71, 8, 176, 188, 584, 251, 164, 86, 585, 18, 5, 6, 586, 86, 134, 132, 92, 587, 145, 588, 419, 19, 398, 324, 19, 20, 70, 131, 164, 627, 8, 87, 164, 685, 686, 687, 131, 158, 688, 689, 132, 8, 127, 5, 6, 8, 130, 690, 691, 327, 71, 38, 132, 241, 5, 8, 87, 692, 165]\n"
     ]
    }
   ],
   "source": [
    "print(email_train_data[0])"
   ]
  },
  {
   "cell_type": "markdown",
   "metadata": {},
   "source": [
    "This length seems problematic, as different policies will have different lengths, which will increase training time. For instance, the number of words in the first and second policies are:"
   ]
  },
  {
   "cell_type": "code",
   "execution_count": 9,
   "metadata": {},
   "outputs": [
    {
     "data": {
      "text/plain": [
       "(909, 564)"
      ]
     },
     "execution_count": 9,
     "metadata": {},
     "output_type": "execute_result"
    }
   ],
   "source": [
    "len(email_train_data[0]), len(email_train_data[1])"
   ]
  },
  {
   "cell_type": "markdown",
   "metadata": {},
   "source": [
    "We will handle this issue later with standardization. For now, let us examine what the above policy looks like decoded."
   ]
  },
  {
   "cell_type": "code",
   "execution_count": 10,
   "metadata": {},
   "outputs": [
    {
     "data": {
      "text/plain": [
       "'share disclose information privacy policy apply third party applications software integrate services slack platform third party services third party products services businesses addition separate agreement governs delivery access use services customer agreement including processing messages files content submitted services accounts collectively customer data organization e g employer another entity person entered customer agreement customer controls instance services workspace associated customer data questions specific workspace settings privacy practices please contact customer whose workspace use account check http slack com account team contact information workspace owner administrator received invitation join workspace yet created account request assistance customer sent invitation workspace account information create update workspace account customer e g employer supply slack email address phone number password domain similar account details details workspace creation click addition customers purchase paid version services provide slack payment processors billing details credit card information banking information billing address services metadata authorized user interacts services metadata generated provides additional context way authorized users work example slack logs workspaces channels people features content links interact types files shared third party services used location information receive information customer third parties helps us approximate location may example use business address submitted employer ip address received browser device determine approximate location slack may also collect location information devices accordance consent process provided device cookie information slack uses cookies similar technologies websites services help us collect information websites services may also include cookies similar tracking technologies third parties may collect information via websites services across websites online services details use technologies please see cookie policy third party services customer choose permit restrict third party services workspace typically third party services software integrate services customer permit authorized users enable disable integrations workspace enabled provider third party service may share certain information slack example cloud storage application enabled permit files imported workspace may receive user name email address authorized users along additional information application elected make available slack facilitate integration authorized users check privacy settings notices third party services understand data may disclosed slack third party service enabled slack authorized connect access information made available slack accordance agreement third party provider however receive store passwords third party services connecting services information third party services click third party data slack may receive data organizations industries website visitors marketing campaigns matters related business parent corporation affiliates subsidiaries partners others use make information better useful data may combined information collect might include aggregate level data ip addresses correspond zip codes countries might specific example well online marketing email campaign performed customer data used slack accordance customer instructions including applicable terms customer agreement customer use services functionality required applicable law slack processor customer data customer controller customer may example use services grant remove access workspace assign roles configure settings access modify export share remove customer data otherwise apply policies services send emails communications may send service technical administrative emails messages types communications may also contact inform changes services services offerings important services related notices security fraud notices communications considered part services may opt addition sometimes send emails new product features promotional communications news slack marketing messages control whether receive share disclose information section describes slack may share disclose information customers determine policies practices sharing disclosure information slack control third parties choose share disclose information customer instructions slack solely share disclose customer data accordance customer instructions including applicable terms customer agreement customer use services functionality compliance applicable law legal process displaying services authorized user submits information may displayed authorized users connected workspaces example authorized user email address may displayed workspace profile please consult help center information services functionality collaborating others services provide different ways authorized users working independent workspaces collaborate shared channels information authorized user profile information may shared subject policies practices workspace third party service providers partners may engage third party companies individuals service providers business partners process information support business third parties may example provide virtual computing storage services additional information subprocessors use support delivery services set forth slack subprocessors third party services customer may enable permit authorized users enable third party services enabled slack may share information third party services third party services owned controlled slack third parties granted access information may policies practices collection use please check privacy settings notices third party services contact provider questions corporate affiliates slack may share information corporate affiliates parents subsidiaries change slack business slack engages merger acquisition bankruptcy dissolution reorganization sale slack assets stock financing public offering securities acquisition portion business similar transaction proceeding steps contemplation activities e g due diligence information may shared transferred subject standard confidentiality arrangements aggregated de identified data may disclose use aggregated de identified information purpose example may share aggregated de identified information prospects partners business research purposes telling prospective slack customer average amount time spent within typical workspace enforce rights prevent fraud safety protect defend rights property safety slack third parties including enforcing contracts policies connection investigating preventing fraud security issues consent slack may share information third parties consent slack may change privacy policy time time laws regulations industry standards evolve may make changes necessary may make changes business post changes page encourage review privacy policy stay informed make changes materially alter privacy rights slack provide additional notice via email services disagree changes privacy policy deactivate services account contact customer wish request removal personal data control communicate data protection officer please email dpo slack com email info dataprotection ie please also feel free contact slack questions privacy policy slack practices seeking exercise statutory rights may contact us privacy slack com mailing address'"
      ]
     },
     "execution_count": 10,
     "metadata": {},
     "output_type": "execute_result"
    }
   ],
   "source": [
    "# reverse our word index dictionary\n",
    "reverse_word_index = dict([(value, key) for (key, value) in word_index.items()])\n",
    "\n",
    "def decode_policy(text):\n",
    "    return \" \".join([reverse_word_index.get(i, \"?\") for i in text])\n",
    "\n",
    "decode_policy(email_train_data[0])"
   ]
  },
  {
   "cell_type": "markdown",
   "metadata": {},
   "source": [
    "## Preparing the Data\n",
    "To train our neural network, we wish to convert our lists of integers to tensors. This can be done with the pad_sequences function from keras to standardize. Padding will force each array to be the same length, and this will allow us to use a word2vec, or embedding, method within our network."
   ]
  },
  {
   "cell_type": "code",
   "execution_count": 11,
   "metadata": {},
   "outputs": [],
   "source": [
    "email_train_data = keras.preprocessing.sequence.pad_sequences(email_train_data,\n",
    "                                                        value = word_index[\"<PAD>\"],\n",
    "                                                        padding = \"post\",\n",
    "                                                        maxlen = 256)\n",
    "\n",
    "email_test_data = keras.preprocessing.sequence.pad_sequences(email_test_data,\n",
    "                                                       value = word_index[\"<PAD>\"],\n",
    "                                                       padding = \"post\",\n",
    "                                                       maxlen = 256)"
   ]
  },
  {
   "cell_type": "markdown",
   "metadata": {},
   "source": [
    "We now see that the length of every policy has been reduced to $256$."
   ]
  },
  {
   "cell_type": "code",
   "execution_count": 12,
   "metadata": {},
   "outputs": [
    {
     "data": {
      "text/plain": [
       "(256, 256)"
      ]
     },
     "execution_count": 12,
     "metadata": {},
     "output_type": "execute_result"
    }
   ],
   "source": [
    "len(email_train_data[0]), len(email_train_data[1])"
   ]
  },
  {
   "cell_type": "markdown",
   "metadata": {},
   "source": [
    "The padded policy is also much more condensed."
   ]
  },
  {
   "cell_type": "code",
   "execution_count": 13,
   "metadata": {},
   "outputs": [
    {
     "name": "stdout",
     "output_type": "stream",
     "text": [
      "[103 104  86  92  38 258 255 153 154 258 103 104  86 261   8  38  61  12\n",
      " 103 104  86 103 104  86 481 482   8 103 239 152  99  12  38  37 130 483\n",
      "  59 131 135   5 129 273 103 104  86 132 262 127 484 295   8  38  61  12\n",
      " 484 295 485 296 486   8 101   8 487 488 489 490 491 492 493   8 494 495\n",
      " 496 497 498 499 489 500 101 170 501 502 503 504 356  90  91 505 506  12\n",
      "  38 201 507 466 508 509 510 409 410 411  19  38  62  59 409 410 411  12\n",
      " 416 192  38  61 409 410 411  12 511 297 101 512 436 513 514   8  92 515\n",
      " 516 219 517 518 519 126 451  71 349 390 526 347 527  71 528 526   8 103\n",
      " 239  80 529 530  37 531 532 533 390  63 352 245   8  38  61  12 103 239\n",
      " 245   8  38 486   5   6 219 219 520 574 575 576 577  38  24  18 435  38\n",
      "  24  18 101 578  18 213 579 431   5   6 580 581  24  18 582 583   5  71\n",
      "   8 176 188 584 251 164  86 585  18   5   6 586  86 134 132  92 587 145\n",
      " 588 419  19 398 324  19  20  70 131 164 627   8  87 164 685 686 687 131\n",
      " 158 688 689 132   8 127   5   6   8 130 690 691 327  71  38 132 241   5\n",
      "   8  87 692 165]\n"
     ]
    }
   ],
   "source": [
    "print(email_train_data[0])"
   ]
  },
  {
   "cell_type": "markdown",
   "metadata": {},
   "source": [
    "## Training\n",
    "We now decide on the number of hidden layers and units for our neural network. We first note that there are $10,854$ unique words in our dictionary, so this gives us an idea of the input shape. The first layer is an embedding layer that takes the lists of integers and looks up the embedding vector for each word-index. The models learns from these vectors with training. The output array gains a dimension from these vectors. \n",
    "\n",
    "\n",
    "Next, we use a one-dimensional global average pooling layer to average over the sequence dimension. This will return an output vector for each example with fixed length. Now our model can handle input of variable length.\n",
    "\n",
    "A 16-node dense layer takes this output through a rectified linear unit activation function. If we define a Neural Network with two hidden layers of dimensions $H_0$ and $H_1$, with $D$-dimensional input, the parameters are:\n",
    "$$\n",
    "\\mathbf{W}_0 \\in \\mathbb{R}^{D\\times H_0}, \\mathbf{W}_1 \\in \\mathbb{R}^{H_0\\times H_1}, \\mathbf{W}_2 \\in \\mathbb{R}^{H_1\\times 1}, \\mathbf{b}_0 \\in \\mathbb{R}^{H_0}, \\mathbf{b}_1 \\in \\mathbb{R}^{H_1}, b_2 \\in \\mathbb{R}.\n",
    "$$\n",
    "and the neural network with rectified linear unit activations is defined as\n",
    "$$\n",
    "\\text{NN}: \\mathbb{R}^D \\to \\mathbb{R}^{H_0} \\to \\mathbb{R}^{H_1} \\to \\mathbb{R} ; \\quad\n",
    "\\mathbf{x} \\mapsto \\mathbf{h}_1 = \\max(0, \\mathbf{W}_0^\\top \\mathbf{x} + \\mathbf{b}_0)\n",
    "\\mapsto \\mathbf{h}_2 = \\max(0, \\mathbf{W}_1^\\top \\mathbf{h}_1 + \\mathbf{b}_1)\n",
    "\\mapsto \\mathbf{W}_2^\\top \\mathbf{h}_2 + b_2.\n",
    "$$\n",
    "Our output layer uses the softmax activation function to to perform our ternary classification."
   ]
  },
  {
   "cell_type": "code",
   "execution_count": 14,
   "metadata": {},
   "outputs": [],
   "source": [
    "vocab_size = 10854\n",
    "\n",
    "model = keras.Sequential()\n",
    "model.add(keras.layers.Embedding(vocab_size, 16))\n",
    "model.add(keras.layers.GlobalAveragePooling1D())\n",
    "model.add(keras.layers.Dense(16, activation = tf.nn.relu))\n",
    "model.add(keras.layers.Dense(3, activation = tf.nn.softmax))"
   ]
  },
  {
   "cell_type": "markdown",
   "metadata": {},
   "source": [
    "Note that we use two hidden layers. The number of nodes is essentially the dimension of the representational space for the layer. This represents the amount of freedom the network is allowed when learning an internal representation. If more hidden units were added, the model could learn more complex representations, but this could lead to overfitting.\n",
    "\n",
    "We now define our loss function and optimizer. We decided on sparse cross-entropy and the Adam algorithm for ternary classification. Cross-entropy is better than MSE in dealing with probabilities and the Adam optimizer is a modification of gradient descent. We use prediction accuracy for our metric."
   ]
  },
  {
   "cell_type": "code",
   "execution_count": 15,
   "metadata": {},
   "outputs": [],
   "source": [
    "model.compile(optimizer = tf.train.AdamOptimizer(),\n",
    "          loss = \"sparse_categorical_crossentropy\",\n",
    "          metrics = [\"accuracy\"])"
   ]
  },
  {
   "cell_type": "markdown",
   "metadata": {},
   "source": [
    "We can now evaluate our model on a validation training set consisting of $100$ entries. Here, our validation set is trained over $40$ epochs with batches of $50$ entries at a time. We use a validation set to tune our model using only the training data. The test data will only be used to evaluate our accuracy."
   ]
  },
  {
   "cell_type": "code",
   "execution_count": 16,
   "metadata": {},
   "outputs": [
    {
     "name": "stdout",
     "output_type": "stream",
     "text": [
      "Train on 192 samples, validate on 100 samples\n",
      "Epoch 1/40\n",
      "192/192 [==============================] - 0s 2ms/step - loss: 1.0946 - acc: 0.6510 - val_loss: 1.0888 - val_acc: 0.7300\n",
      "Epoch 2/40\n",
      "192/192 [==============================] - 0s 81us/step - loss: 1.0872 - acc: 0.6979 - val_loss: 1.0809 - val_acc: 0.7300\n",
      "Epoch 3/40\n",
      "192/192 [==============================] - 0s 81us/step - loss: 1.0791 - acc: 0.6979 - val_loss: 1.0725 - val_acc: 0.7300\n",
      "Epoch 4/40\n",
      "192/192 [==============================] - 0s 81us/step - loss: 1.0700 - acc: 0.6979 - val_loss: 1.0634 - val_acc: 0.7300\n",
      "Epoch 5/40\n",
      "192/192 [==============================] - 0s 81us/step - loss: 1.0606 - acc: 0.6979 - val_loss: 1.0534 - val_acc: 0.7300\n",
      "Epoch 6/40\n",
      "192/192 [==============================] - 0s 81us/step - loss: 1.0503 - acc: 0.6979 - val_loss: 1.0429 - val_acc: 0.7300\n",
      "Epoch 7/40\n",
      "192/192 [==============================] - 0s 81us/step - loss: 1.0390 - acc: 0.6979 - val_loss: 1.0317 - val_acc: 0.7300\n",
      "Epoch 8/40\n",
      "192/192 [==============================] - 0s 81us/step - loss: 1.0279 - acc: 0.6979 - val_loss: 1.0195 - val_acc: 0.7300\n",
      "Epoch 9/40\n",
      "192/192 [==============================] - 0s 81us/step - loss: 1.0153 - acc: 0.6979 - val_loss: 1.0065 - val_acc: 0.7300\n",
      "Epoch 10/40\n",
      "192/192 [==============================] - 0s 81us/step - loss: 1.0022 - acc: 0.6979 - val_loss: 0.9927 - val_acc: 0.7300\n",
      "Epoch 11/40\n",
      "192/192 [==============================] - 0s 81us/step - loss: 0.9878 - acc: 0.6979 - val_loss: 0.9785 - val_acc: 0.7300\n",
      "Epoch 12/40\n",
      "192/192 [==============================] - 0s 81us/step - loss: 0.9733 - acc: 0.6979 - val_loss: 0.9634 - val_acc: 0.7300\n",
      "Epoch 13/40\n",
      "192/192 [==============================] - 0s 81us/step - loss: 0.9573 - acc: 0.6979 - val_loss: 0.9479 - val_acc: 0.7300\n",
      "Epoch 14/40\n",
      "192/192 [==============================] - 0s 81us/step - loss: 0.9417 - acc: 0.6979 - val_loss: 0.9317 - val_acc: 0.7300\n",
      "Epoch 15/40\n",
      "192/192 [==============================] - 0s 81us/step - loss: 0.9264 - acc: 0.6979 - val_loss: 0.9148 - val_acc: 0.7300\n",
      "Epoch 16/40\n",
      "192/192 [==============================] - 0s 81us/step - loss: 0.9086 - acc: 0.6979 - val_loss: 0.8982 - val_acc: 0.7300\n",
      "Epoch 17/40\n",
      "192/192 [==============================] - 0s 81us/step - loss: 0.8921 - acc: 0.6979 - val_loss: 0.8814 - val_acc: 0.7300\n",
      "Epoch 18/40\n",
      "192/192 [==============================] - 0s 81us/step - loss: 0.8742 - acc: 0.6979 - val_loss: 0.8653 - val_acc: 0.7300\n",
      "Epoch 19/40\n",
      "192/192 [==============================] - 0s 81us/step - loss: 0.8577 - acc: 0.6979 - val_loss: 0.8494 - val_acc: 0.7300\n",
      "Epoch 20/40\n",
      "192/192 [==============================] - 0s 81us/step - loss: 0.8409 - acc: 0.6979 - val_loss: 0.8343 - val_acc: 0.7300\n",
      "Epoch 21/40\n",
      "192/192 [==============================] - 0s 81us/step - loss: 0.8257 - acc: 0.6979 - val_loss: 0.8199 - val_acc: 0.7300\n",
      "Epoch 22/40\n",
      "192/192 [==============================] - 0s 81us/step - loss: 0.8111 - acc: 0.6979 - val_loss: 0.8064 - val_acc: 0.7300\n",
      "Epoch 23/40\n",
      "192/192 [==============================] - 0s 81us/step - loss: 0.7950 - acc: 0.6979 - val_loss: 0.7946 - val_acc: 0.7300\n",
      "Epoch 24/40\n",
      "192/192 [==============================] - 0s 0us/step - loss: 0.7822 - acc: 0.6979 - val_loss: 0.7837 - val_acc: 0.7300\n",
      "Epoch 25/40\n",
      "192/192 [==============================] - 0s 81us/step - loss: 0.7700 - acc: 0.6979 - val_loss: 0.7736 - val_acc: 0.7300\n",
      "Epoch 26/40\n",
      "192/192 [==============================] - 0s 0us/step - loss: 0.7591 - acc: 0.6979 - val_loss: 0.7646 - val_acc: 0.7300\n",
      "Epoch 27/40\n",
      "192/192 [==============================] - 0s 81us/step - loss: 0.7472 - acc: 0.6979 - val_loss: 0.7566 - val_acc: 0.7300\n",
      "Epoch 28/40\n",
      "192/192 [==============================] - 0s 81us/step - loss: 0.7370 - acc: 0.6979 - val_loss: 0.7493 - val_acc: 0.7300\n",
      "Epoch 29/40\n",
      "192/192 [==============================] - 0s 22us/step - loss: 0.7273 - acc: 0.6979 - val_loss: 0.7428 - val_acc: 0.7300\n",
      "Epoch 30/40\n",
      "192/192 [==============================] - 0s 81us/step - loss: 0.7178 - acc: 0.6979 - val_loss: 0.7369 - val_acc: 0.7300\n",
      "Epoch 31/40\n",
      "192/192 [==============================] - 0s 81us/step - loss: 0.7085 - acc: 0.6979 - val_loss: 0.7316 - val_acc: 0.7300\n",
      "Epoch 32/40\n",
      "192/192 [==============================] - 0s 81us/step - loss: 0.7001 - acc: 0.6979 - val_loss: 0.7265 - val_acc: 0.7300\n",
      "Epoch 33/40\n",
      "192/192 [==============================] - 0s 81us/step - loss: 0.6915 - acc: 0.6979 - val_loss: 0.7218 - val_acc: 0.7300\n",
      "Epoch 34/40\n",
      "192/192 [==============================] - 0s 81us/step - loss: 0.6829 - acc: 0.6979 - val_loss: 0.7176 - val_acc: 0.7300\n",
      "Epoch 35/40\n",
      "192/192 [==============================] - 0s 81us/step - loss: 0.6740 - acc: 0.6979 - val_loss: 0.7142 - val_acc: 0.7300\n",
      "Epoch 36/40\n",
      "192/192 [==============================] - 0s 81us/step - loss: 0.6653 - acc: 0.6979 - val_loss: 0.7116 - val_acc: 0.7300\n",
      "Epoch 37/40\n",
      "192/192 [==============================] - 0s 81us/step - loss: 0.6566 - acc: 0.6979 - val_loss: 0.7095 - val_acc: 0.7300\n",
      "Epoch 38/40\n",
      "192/192 [==============================] - 0s 163us/step - loss: 0.6480 - acc: 0.6979 - val_loss: 0.7069 - val_acc: 0.7300\n",
      "Epoch 39/40\n",
      "192/192 [==============================] - 0s 81us/step - loss: 0.6392 - acc: 0.6979 - val_loss: 0.7042 - val_acc: 0.7300\n",
      "Epoch 40/40\n",
      "192/192 [==============================] - 0s 0us/step - loss: 0.6304 - acc: 0.7031 - val_loss: 0.7021 - val_acc: 0.7300\n"
     ]
    }
   ],
   "source": [
    "x_val = email_train_data[:100]\n",
    "partial_x_train = email_train_data[100:]\n",
    "\n",
    "y_val = email_train_labels[:100]\n",
    "partial_y_train = email_train_labels[100:]\n",
    "\n",
    "\n",
    "history = model.fit(partial_x_train,\n",
    "                partial_y_train,\n",
    "                epochs = 40,\n",
    "                batch_size = 50,\n",
    "                validation_data = (x_val, y_val),\n",
    "                verbose = 1)"
   ]
  },
  {
   "cell_type": "markdown",
   "metadata": {},
   "source": [
    "To see how our model performs, we return a loss and accuracy measurement."
   ]
  },
  {
   "cell_type": "code",
   "execution_count": 17,
   "metadata": {},
   "outputs": [
    {
     "name": "stdout",
     "output_type": "stream",
     "text": [
      "Epoch 1/5\n",
      "292/292 [==============================] - 0s 107us/step - loss: 0.6456 - acc: 0.7123\n",
      "Epoch 2/5\n",
      "292/292 [==============================] - 0s 107us/step - loss: 0.6291 - acc: 0.7158\n",
      "Epoch 3/5\n",
      "292/292 [==============================] - 0s 54us/step - loss: 0.6154 - acc: 0.7226\n",
      "Epoch 4/5\n",
      "292/292 [==============================] - 0s 107us/step - loss: 0.6000 - acc: 0.7329\n",
      "Epoch 5/5\n",
      "292/292 [==============================] - 0s 54us/step - loss: 0.5878 - acc: 0.7260\n",
      "15/15 [==============================] - 0s 0us/step\n",
      "[0.40252333879470825, 0.9333333373069763]\n"
     ]
    }
   ],
   "source": [
    "model.fit(email_train_data, email_train_labels, epochs = 5)\n",
    "\n",
    "results = model.evaluate(email_test_data, email_test_labels)\n",
    "\n",
    "print(results)"
   ]
  },
  {
   "cell_type": "code",
   "execution_count": 43,
   "metadata": {},
   "outputs": [
    {
     "data": {
      "text/plain": [
       "array([0.04679902, 0.15381555, 0.79938537], dtype=float32)"
      ]
     },
     "execution_count": 43,
     "metadata": {},
     "output_type": "execute_result"
    }
   ],
   "source": [
    "predictions = model.predict(email_test_data)\n",
    "\n",
    "predictions[0]"
   ]
  },
  {
   "cell_type": "code",
   "execution_count": 44,
   "metadata": {},
   "outputs": [
    {
     "data": {
      "text/plain": [
       "2"
      ]
     },
     "execution_count": 44,
     "metadata": {},
     "output_type": "execute_result"
    }
   ],
   "source": [
    "np.argmax(predictions[0])"
   ]
  },
  {
   "cell_type": "code",
   "execution_count": 45,
   "metadata": {},
   "outputs": [
    {
     "data": {
      "text/plain": [
       "2"
      ]
     },
     "execution_count": 45,
     "metadata": {},
     "output_type": "execute_result"
    }
   ],
   "source": [
    "email_test_labels[0]"
   ]
  },
  {
   "cell_type": "markdown",
   "metadata": {},
   "source": [
    "## Results\n",
    "We finally wish to see how our model changes over time. We first initiate a dictionary that contains everything that occured during training."
   ]
  },
  {
   "cell_type": "code",
   "execution_count": 18,
   "metadata": {},
   "outputs": [
    {
     "data": {
      "text/plain": [
       "dict_keys(['val_loss', 'val_acc', 'loss', 'acc'])"
      ]
     },
     "execution_count": 18,
     "metadata": {},
     "output_type": "execute_result"
    }
   ],
   "source": [
    "history_dict = history.history\n",
    "history_dict.keys()"
   ]
  },
  {
   "cell_type": "markdown",
   "metadata": {},
   "source": [
    "The four entries are for each metric during validation and training. We use these to plot the training and validation loss and accuracy."
   ]
  },
  {
   "cell_type": "code",
   "execution_count": 19,
   "metadata": {},
   "outputs": [
    {
     "data": {
      "image/png": "[encoded data removed]",
      "text/plain": [
       "<Figure size 432x288 with 1 Axes>"
      ]
     },
     "metadata": {
      "needs_background": "light"
     },
     "output_type": "display_data"
    }
   ],
   "source": [
    "import matplotlib.pyplot as plt\n",
    "\n",
    "acc = history.history[\"acc\"]\n",
    "val_acc = history.history[\"val_acc\"]\n",
    "loss = history.history[\"loss\"]\n",
    "val_loss = history.history[\"val_loss\"]\n",
    "\n",
    "epochs = range(1, len(acc) + 1)\n",
    "\n",
    "plt.plot(epochs, loss, \"bo\", label = \"Training loss\")\n",
    "plt.plot(epochs, val_loss, \"b\", label = \"Validation loss\")\n",
    "plt.title(\"Training and validation loss\")\n",
    "plt.xlabel(\"Epochs\")\n",
    "plt.ylabel(\"Loss\")\n",
    "plt.legend()\n",
    "\n",
    "plt.show()"
   ]
  },
  {
   "cell_type": "code",
   "execution_count": 21,
   "metadata": {},
   "outputs": [
    {
     "data": {
      "image/png": "[encoded data removed]",
      "text/plain": [
       "<Figure size 432x288 with 1 Axes>"
      ]
     },
     "metadata": {
      "needs_background": "light"
     },
     "output_type": "display_data"
    }
   ],
   "source": [
    "plt.clf()\n",
    "acc_values = history_dict[\"acc\"]\n",
    "val_acc_values = history_dict[\"val_acc\"]\n",
    "\n",
    "plt.plot(epochs, acc, \"bo\", label = \"Training acc\")\n",
    "plt.plot(epochs, val_acc, \"b\", label = \"Validation acc\")\n",
    "plt.title(\"Training and validation accuracy\")\n",
    "plt.xlabel(\"Epochs\")\n",
    "plt.ylabel(\"Accuracy\")\n",
    "plt.legend()\n",
    "\n",
    "plt.show()"
   ]
  },
  {
   "cell_type": "markdown",
   "metadata": {},
   "source": [
    "## Conclusion\n",
    "Our training loss and acuracy decrease with each epoch. This is expected when performing gradient descent optimiztion. However, our validation plot shows a strange constant behavior. The model does perform better on the validation data, but overfitting may have occured. In fact, after around 31 epochs, the model over-optimizes and learns representations specific to the training data that do not generalize to test data."
   ]
  },
  {
   "cell_type": "markdown",
   "metadata": {},
   "source": [
    "## Further Work\n",
    "Overfitting could likely be reduced if training was performed over fewer epochs. Our current goal is to improve upon these results and create a front-end interface for user interaction and input of privacy policies.\n",
    "\n",
    "Ideally, there will be two front end versions that a user can choose to parse Term of Services, although, one is currently in development.  \n",
    "\n",
    "The version that is currently in the development is a Google Chrome extension application. Initially, this version is what we planned to use as our main user interface, as it would be an intuitive, easy access application for clients once it is completed. However, after finishing the logo and attaching it to the Google Chrome browser, we realized that it is difficult for the app to interact with our back end due to issues with JavaScript.\n",
    "\n",
    "Our team made some effort researching what could be done to connect our AI engine to the extension. One solution is to actually import a python compiler written in javascript, which would let us compile our python code and port it into the browser. However, we soon realized that although it is possible, it is outside of the scope of this class. \n",
    "\n",
    "After some intense discussion, we have made an executive decision to take affirmative actions on moving forward without using the Chrome extension as our main user interface. Nevertheless, we planned on continuing the work of this project and extend this extension in the future to interact with our AI engine.\n",
    "\n",
    "<center><img src=\"Capture.png\"><center>"
   ]
  }
 ],
 "metadata": {
  "kernelspec": {
   "display_name": "Python 3",
   "language": "python",
   "name": "python3"
  },
  "language_info": {
   "codemirror_mode": {
    "name": "ipython",
    "version": 3
   },
   "file_extension": ".py",
   "mimetype": "text/x-python",
   "name": "python",
   "nbconvert_exporter": "python",
   "pygments_lexer": "ipython3",
   "version": "3.6.6"
  }
 },
 "nbformat": 4,
 "nbformat_minor": 2
}
